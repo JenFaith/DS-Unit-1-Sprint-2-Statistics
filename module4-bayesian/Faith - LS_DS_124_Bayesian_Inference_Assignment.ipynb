{
  "nbformat": 4,
  "nbformat_minor": 0,
  "metadata": {
    "colab": {
      "name": "LS_DS_124_Bayesian_Inference_Assignment.ipynb",
      "provenance": [],
      "collapsed_sections": [],
      "include_colab_link": true
    },
    "kernelspec": {
      "name": "python3",
      "display_name": "Python 3"
    }
  },
  "cells": [
    {
      "cell_type": "markdown",
      "metadata": {
        "id": "view-in-github",
        "colab_type": "text"
      },
      "source": [
        "<a href=\"https://colab.research.google.com/github/JenFaith/DS-Unit-1-Sprint-2-Statistics/blob/master/module4-bayesian/Faith%20-%20LS_DS_124_Bayesian_Inference_Assignment.ipynb\" target=\"_parent\"><img src=\"https://colab.research.google.com/assets/colab-badge.svg\" alt=\"Open In Colab\"/></a>"
      ]
    },
    {
      "cell_type": "markdown",
      "metadata": {
        "id": "H7OLbevlbd_Z"
      },
      "source": [
        "# Lambda School Data Science Module 124\n",
        "\n",
        "## Introduction to Bayesian Inference\n",
        "\n",
        "\n"
      ]
    },
    {
      "cell_type": "markdown",
      "metadata": {
        "id": "iliKwAvIKbyD"
      },
      "source": [
        "### 1) In your own words, summarize the difference between Bayesian and Frequentist statistics."
      ]
    },
    {
      "cell_type": "markdown",
      "metadata": {
        "id": "VHo7IAIFMNRT"
      },
      "source": [
        "Bayesians consider the probability of an outcome before testing and while interpreting results, but frequentists do not."
      ]
    },
    {
      "cell_type": "markdown",
      "metadata": {
        "id": "db4m0HhBCMhR"
      },
      "source": [
        "###For questions 2) - 8) use the following information:\n",
        "\n",
        "Let A be the event of surviving the sinking of the Titanic and B be the event of being a 1st class passenger."
      ]
    },
    {
      "cell_type": "code",
      "metadata": {
        "id": "qXaf5leo7CHr",
        "outputId": "9d5e289e-a358-482d-f328-cbf32cd0bb16",
        "colab": {
          "base_uri": "https://localhost:8080/",
          "height": 221
        }
      },
      "source": [
        "import pandas as pd\n",
        "import numpy as np\n",
        "\n",
        "\n",
        "data_url = 'https://raw.githubusercontent.com/Chelsea-Myers/Lambda-Intro/master/Titanic.csv'\n",
        "\n",
        "df = pd.read_csv(data_url, skipinitialspace=True, header=0)\n",
        "\n",
        "print(df.shape)\n",
        "df.head()"
      ],
      "execution_count": 1,
      "outputs": [
        {
          "output_type": "stream",
          "text": [
            "(887, 8)\n"
          ],
          "name": "stdout"
        },
        {
          "output_type": "execute_result",
          "data": {
            "text/html": [
              "<div>\n",
              "<style scoped>\n",
              "    .dataframe tbody tr th:only-of-type {\n",
              "        vertical-align: middle;\n",
              "    }\n",
              "\n",
              "    .dataframe tbody tr th {\n",
              "        vertical-align: top;\n",
              "    }\n",
              "\n",
              "    .dataframe thead th {\n",
              "        text-align: right;\n",
              "    }\n",
              "</style>\n",
              "<table border=\"1\" class=\"dataframe\">\n",
              "  <thead>\n",
              "    <tr style=\"text-align: right;\">\n",
              "      <th></th>\n",
              "      <th>Survived</th>\n",
              "      <th>Pclass</th>\n",
              "      <th>Name</th>\n",
              "      <th>Sex</th>\n",
              "      <th>Age</th>\n",
              "      <th>Siblings/Spouses_Aboard</th>\n",
              "      <th>Parents/Children_Aboard</th>\n",
              "      <th>Fare</th>\n",
              "    </tr>\n",
              "  </thead>\n",
              "  <tbody>\n",
              "    <tr>\n",
              "      <th>0</th>\n",
              "      <td>0</td>\n",
              "      <td>3</td>\n",
              "      <td>Mr. Owen Harris Braund</td>\n",
              "      <td>male</td>\n",
              "      <td>22.0</td>\n",
              "      <td>1</td>\n",
              "      <td>0</td>\n",
              "      <td>7.2500</td>\n",
              "    </tr>\n",
              "    <tr>\n",
              "      <th>1</th>\n",
              "      <td>1</td>\n",
              "      <td>1</td>\n",
              "      <td>Mrs. John Bradley (Florence Briggs Thayer) Cum...</td>\n",
              "      <td>female</td>\n",
              "      <td>38.0</td>\n",
              "      <td>1</td>\n",
              "      <td>0</td>\n",
              "      <td>71.2833</td>\n",
              "    </tr>\n",
              "    <tr>\n",
              "      <th>2</th>\n",
              "      <td>1</td>\n",
              "      <td>3</td>\n",
              "      <td>Miss. Laina Heikkinen</td>\n",
              "      <td>female</td>\n",
              "      <td>26.0</td>\n",
              "      <td>0</td>\n",
              "      <td>0</td>\n",
              "      <td>7.9250</td>\n",
              "    </tr>\n",
              "    <tr>\n",
              "      <th>3</th>\n",
              "      <td>1</td>\n",
              "      <td>1</td>\n",
              "      <td>Mrs. Jacques Heath (Lily May Peel) Futrelle</td>\n",
              "      <td>female</td>\n",
              "      <td>35.0</td>\n",
              "      <td>1</td>\n",
              "      <td>0</td>\n",
              "      <td>53.1000</td>\n",
              "    </tr>\n",
              "    <tr>\n",
              "      <th>4</th>\n",
              "      <td>0</td>\n",
              "      <td>3</td>\n",
              "      <td>Mr. William Henry Allen</td>\n",
              "      <td>male</td>\n",
              "      <td>35.0</td>\n",
              "      <td>0</td>\n",
              "      <td>0</td>\n",
              "      <td>8.0500</td>\n",
              "    </tr>\n",
              "  </tbody>\n",
              "</table>\n",
              "</div>"
            ],
            "text/plain": [
              "   Survived  Pclass  ... Parents/Children_Aboard     Fare\n",
              "0         0       3  ...                       0   7.2500\n",
              "1         1       1  ...                       0  71.2833\n",
              "2         1       3  ...                       0   7.9250\n",
              "3         1       1  ...                       0  53.1000\n",
              "4         0       3  ...                       0   8.0500\n",
              "\n",
              "[5 rows x 8 columns]"
            ]
          },
          "metadata": {
            "tags": []
          },
          "execution_count": 1
        }
      ]
    },
    {
      "cell_type": "markdown",
      "metadata": {
        "id": "4shP8MH8CbrZ"
      },
      "source": [
        "2) Calculate P(A) = P(Surving)"
      ]
    },
    {
      "cell_type": "code",
      "metadata": {
        "id": "iDi0eFr1x-v_",
        "outputId": "d123d155-ac05-43df-b6c7-89881d59d035",
        "colab": {
          "base_uri": "https://localhost:8080/"
        }
      },
      "source": [
        "### YOUR CODE HERE\n",
        "new_df =  pd.crosstab(index = df['Survived'], columns='count', margins = True)\n",
        "new_df\n",
        "P_A = 342/887\n",
        "P_A"
      ],
      "execution_count": 7,
      "outputs": [
        {
          "output_type": "execute_result",
          "data": {
            "text/plain": [
              "0.3855693348365276"
            ]
          },
          "metadata": {
            "tags": []
          },
          "execution_count": 7
        }
      ]
    },
    {
      "cell_type": "markdown",
      "metadata": {
        "id": "ZV_UsohfC6r_"
      },
      "source": [
        "3) Calculate P(B) = P(Being a 1st class passenger)"
      ]
    },
    {
      "cell_type": "code",
      "metadata": {
        "id": "wcBGNBoQL6iS",
        "outputId": "416a0d36-8728-4102-ea00-72abbb5d28f0",
        "colab": {
          "base_uri": "https://localhost:8080/",
          "height": 173
        }
      },
      "source": [
        "### YOUR CODE HERE\n",
        "class_df =  pd.crosstab(df['Survived'],df['Pclass'], margins = True)\n",
        "class_df"
      ],
      "execution_count": 9,
      "outputs": [
        {
          "output_type": "execute_result",
          "data": {
            "text/html": [
              "<div>\n",
              "<style scoped>\n",
              "    .dataframe tbody tr th:only-of-type {\n",
              "        vertical-align: middle;\n",
              "    }\n",
              "\n",
              "    .dataframe tbody tr th {\n",
              "        vertical-align: top;\n",
              "    }\n",
              "\n",
              "    .dataframe thead th {\n",
              "        text-align: right;\n",
              "    }\n",
              "</style>\n",
              "<table border=\"1\" class=\"dataframe\">\n",
              "  <thead>\n",
              "    <tr style=\"text-align: right;\">\n",
              "      <th>Pclass</th>\n",
              "      <th>1</th>\n",
              "      <th>2</th>\n",
              "      <th>3</th>\n",
              "      <th>All</th>\n",
              "    </tr>\n",
              "    <tr>\n",
              "      <th>Survived</th>\n",
              "      <th></th>\n",
              "      <th></th>\n",
              "      <th></th>\n",
              "      <th></th>\n",
              "    </tr>\n",
              "  </thead>\n",
              "  <tbody>\n",
              "    <tr>\n",
              "      <th>0</th>\n",
              "      <td>80</td>\n",
              "      <td>97</td>\n",
              "      <td>368</td>\n",
              "      <td>545</td>\n",
              "    </tr>\n",
              "    <tr>\n",
              "      <th>1</th>\n",
              "      <td>136</td>\n",
              "      <td>87</td>\n",
              "      <td>119</td>\n",
              "      <td>342</td>\n",
              "    </tr>\n",
              "    <tr>\n",
              "      <th>All</th>\n",
              "      <td>216</td>\n",
              "      <td>184</td>\n",
              "      <td>487</td>\n",
              "      <td>887</td>\n",
              "    </tr>\n",
              "  </tbody>\n",
              "</table>\n",
              "</div>"
            ],
            "text/plain": [
              "Pclass      1    2    3  All\n",
              "Survived                    \n",
              "0          80   97  368  545\n",
              "1         136   87  119  342\n",
              "All       216  184  487  887"
            ]
          },
          "metadata": {
            "tags": []
          },
          "execution_count": 9
        }
      ]
    },
    {
      "cell_type": "code",
      "metadata": {
        "id": "sHxm0RJPOMjR",
        "outputId": "1769cb35-feca-40b1-db30-8a7e28262ea3",
        "colab": {
          "base_uri": "https://localhost:8080/"
        }
      },
      "source": [
        "P_B = 216/887\n",
        "P_B"
      ],
      "execution_count": 10,
      "outputs": [
        {
          "output_type": "execute_result",
          "data": {
            "text/plain": [
              "0.24351747463359638"
            ]
          },
          "metadata": {
            "tags": []
          },
          "execution_count": 10
        }
      ]
    },
    {
      "cell_type": "markdown",
      "metadata": {
        "id": "3tJKQmH-Cm6u"
      },
      "source": [
        "4) Calculate P(A $\\cap$ B) = P(Being a 1st class passenger and surviving)"
      ]
    },
    {
      "cell_type": "code",
      "metadata": {
        "id": "9Nr8LWPyL7P6",
        "outputId": "19b32049-192f-44eb-ca89-43d4857b5703",
        "colab": {
          "base_uri": "https://localhost:8080/"
        }
      },
      "source": [
        "### YOUR CODE HERE\n",
        "P_A_and_B = 136/887\n",
        "P_A_and_B\n"
      ],
      "execution_count": 16,
      "outputs": [
        {
          "output_type": "execute_result",
          "data": {
            "text/plain": [
              "0.15332581736189402"
            ]
          },
          "metadata": {
            "tags": []
          },
          "execution_count": 16
        }
      ]
    },
    {
      "cell_type": "markdown",
      "metadata": {
        "id": "VzHakDD6DOcL"
      },
      "source": [
        "5) Calculate P(A|B) = P(Surviving given that the person was a 1st class passenger)"
      ]
    },
    {
      "cell_type": "code",
      "metadata": {
        "id": "TxrNmmzZL7zw",
        "outputId": "b7db5e83-ba0f-432e-d60e-5f05035eba9e",
        "colab": {
          "base_uri": "https://localhost:8080/"
        }
      },
      "source": [
        "### YOUR CODE HERE\n",
        "\n",
        "P_A_given_B = P_A_and_B / P_B\n",
        "P_A_given_B"
      ],
      "execution_count": 18,
      "outputs": [
        {
          "output_type": "execute_result",
          "data": {
            "text/plain": [
              "0.6296296296296297"
            ]
          },
          "metadata": {
            "tags": []
          },
          "execution_count": 18
        }
      ]
    },
    {
      "cell_type": "markdown",
      "metadata": {
        "id": "Y-i4q2IgQvkp"
      },
      "source": [
        "$$P(A|B) = \\frac{P(A \\cap B)}{P(B)}$$"
      ]
    },
    {
      "cell_type": "markdown",
      "metadata": {
        "id": "mrgo_ffsQ0E2"
      },
      "source": [
        "$$P(B|A) = \\frac{P(B \\cap A)}{P(A)}$$"
      ]
    },
    {
      "cell_type": "markdown",
      "metadata": {
        "id": "Gg4bIP69QrAm"
      },
      "source": [
        ""
      ]
    },
    {
      "cell_type": "markdown",
      "metadata": {
        "id": "XLHGkgqIDZvi"
      },
      "source": [
        "6) Calculate (B|A) = P(Being a first class passenger given the person survived)"
      ]
    },
    {
      "cell_type": "code",
      "metadata": {
        "id": "9_8-BEipL8U5",
        "outputId": "eb10bbf7-86b5-4568-f891-bd530ba7b5b3",
        "colab": {
          "base_uri": "https://localhost:8080/"
        }
      },
      "source": [
        "### YOUR CODE HERE\n",
        "P_B_given_A = P_A_and_B / P_A\n",
        "P_B_given_A"
      ],
      "execution_count": 22,
      "outputs": [
        {
          "output_type": "execute_result",
          "data": {
            "text/plain": [
              "0.39766081871345027"
            ]
          },
          "metadata": {
            "tags": []
          },
          "execution_count": 22
        }
      ]
    },
    {
      "cell_type": "markdown",
      "metadata": {
        "id": "lxYJhvp1DkLS"
      },
      "source": [
        "7) Show that \n",
        "\n",
        "$$P(A|B) = \\frac{P(A \\cap B)}{P(B)}$$\n",
        "\n",
        "with the numbers you calculate above."
      ]
    },
    {
      "cell_type": "code",
      "metadata": {
        "id": "P0k0E5OKL9C-",
        "outputId": "ad346646-ddb4-49a6-b844-342735ad5217",
        "colab": {
          "base_uri": "https://localhost:8080/",
          "height": 173
        }
      },
      "source": [
        "### YOUR CODE HERE\n",
        "pd.crosstab(df['Pclass'],df['Survived'],normalize=\"index\")"
      ],
      "execution_count": 23,
      "outputs": [
        {
          "output_type": "execute_result",
          "data": {
            "text/html": [
              "<div>\n",
              "<style scoped>\n",
              "    .dataframe tbody tr th:only-of-type {\n",
              "        vertical-align: middle;\n",
              "    }\n",
              "\n",
              "    .dataframe tbody tr th {\n",
              "        vertical-align: top;\n",
              "    }\n",
              "\n",
              "    .dataframe thead th {\n",
              "        text-align: right;\n",
              "    }\n",
              "</style>\n",
              "<table border=\"1\" class=\"dataframe\">\n",
              "  <thead>\n",
              "    <tr style=\"text-align: right;\">\n",
              "      <th>Survived</th>\n",
              "      <th>0</th>\n",
              "      <th>1</th>\n",
              "    </tr>\n",
              "    <tr>\n",
              "      <th>Pclass</th>\n",
              "      <th></th>\n",
              "      <th></th>\n",
              "    </tr>\n",
              "  </thead>\n",
              "  <tbody>\n",
              "    <tr>\n",
              "      <th>1</th>\n",
              "      <td>0.370370</td>\n",
              "      <td>0.629630</td>\n",
              "    </tr>\n",
              "    <tr>\n",
              "      <th>2</th>\n",
              "      <td>0.527174</td>\n",
              "      <td>0.472826</td>\n",
              "    </tr>\n",
              "    <tr>\n",
              "      <th>3</th>\n",
              "      <td>0.755647</td>\n",
              "      <td>0.244353</td>\n",
              "    </tr>\n",
              "  </tbody>\n",
              "</table>\n",
              "</div>"
            ],
            "text/plain": [
              "Survived         0         1\n",
              "Pclass                      \n",
              "1         0.370370  0.629630\n",
              "2         0.527174  0.472826\n",
              "3         0.755647  0.244353"
            ]
          },
          "metadata": {
            "tags": []
          },
          "execution_count": 23
        }
      ]
    },
    {
      "cell_type": "code",
      "metadata": {
        "id": "fPsHmqc2Wr6Z"
      },
      "source": [
        "##already did this above?"
      ],
      "execution_count": null,
      "outputs": []
    },
    {
      "cell_type": "markdown",
      "metadata": {
        "id": "M2pRVt7ADsFk"
      },
      "source": [
        "8) Show that \n",
        "\n",
        "$$P(A|B) = \\frac{P(B|A)P(A)}{P(B)}$$\n",
        "\n",
        "with the numbers you calculated above."
      ]
    },
    {
      "cell_type": "code",
      "metadata": {
        "id": "-x5dBlTzW2Jn",
        "outputId": "9859801e-03d0-440d-ecd5-83f39359e206",
        "colab": {
          "base_uri": "https://localhost:8080/"
        }
      },
      "source": [
        "new_P_A_given_B = (P_B_given_A * P_A)/P_B\n",
        "new_P_A_given_B"
      ],
      "execution_count": 25,
      "outputs": [
        {
          "output_type": "execute_result",
          "data": {
            "text/plain": [
              "0.6296296296296297"
            ]
          },
          "metadata": {
            "tags": []
          },
          "execution_count": 25
        }
      ]
    },
    {
      "cell_type": "markdown",
      "metadata": {
        "id": "SB1m04Zf16Lo"
      },
      "source": [
        "###Use the following information to answer questions 9) - 13) \n",
        "\n",
        "\n",
        "Students arriving at Hogwarts are sorted into one of the four residential houses -- Gryffindor, Hufflepuff, Ravenclaw, and Slytherin -- by the magical Sorting Hat.\n",
        "\n",
        "\n",
        "In theory, the Hat is supposed to examine each student's personality, consider his or her wishes, and then place the student into the most appropriate house. However, after a thousand years, the Hat has gotten pretty lazy, so it has simplified its sorting process into a two-step algorithm:\n",
        "\n",
        "\n",
        "\n",
        "All evil students go into Slytherin, obviously.\n",
        "\n",
        "\n",
        "Everybody else is just randomly sorted into one of the four houses, with a 40% probability of being put into Hufflepuff and a 20% probability of being put into each of the three other houses.\n",
        "\n",
        "\n",
        "Hermione is shocked when she's sorted into Slytherin! She's never thought of herself as evil, but now that she considers it, becoming the future Dark Lady of Magical Britain does have some appeal...\n",
        "\n",
        "\n",
        "If 10% of new Hogwarts students are evil, what is the probability that a randomly chosen Slytherin is evil?\n",
        "\n",
        "\n",
        "Tip: the value you want is P(Evil | Slytherin)."
      ]
    },
    {
      "cell_type": "markdown",
      "metadata": {
        "id": "TB-dEdYIvXev"
      },
      "source": [
        "9) Show the intermediate step that allows us to write: \n",
        "\n",
        "$$P(Evil|Slytherin)= \\frac{P(Slytherin|Evil)P(Evil)}{P(Slytherin)}$$"
      ]
    },
    {
      "cell_type": "code",
      "metadata": {
        "id": "RljdMTSpgAWn"
      },
      "source": [
        ""
      ],
      "execution_count": null,
      "outputs": []
    },
    {
      "cell_type": "markdown",
      "metadata": {
        "id": "QWtpuAzRD8jL"
      },
      "source": [
        "Answer: "
      ]
    },
    {
      "cell_type": "markdown",
      "metadata": {
        "id": "HzceET6m6qH-"
      },
      "source": [
        "10) Determine P(Slytherin|Evil)."
      ]
    },
    {
      "cell_type": "markdown",
      "metadata": {
        "id": "My1_pfxcEOMa"
      },
      "source": [
        "Answer: \n",
        "Probability of being slytherin given that the individual is evil.\n",
        "\n",
        "P(Slytherin | Evil ) = 1"
      ]
    },
    {
      "cell_type": "code",
      "metadata": {
        "id": "3-tdZxqchSHn"
      },
      "source": [
        "P_Slytherine_given_Evil = 1"
      ],
      "execution_count": 29,
      "outputs": []
    },
    {
      "cell_type": "markdown",
      "metadata": {
        "id": "J5tvhwT662fm"
      },
      "source": [
        "11) Determine P(Evil)."
      ]
    },
    {
      "cell_type": "markdown",
      "metadata": {
        "id": "lb0LmE3hEOoQ"
      },
      "source": [
        "Answer: \n",
        "Since 10% of the students are evil, P(Evil) must be = 0.10"
      ]
    },
    {
      "cell_type": "code",
      "metadata": {
        "id": "LBD7iOoehMdm"
      },
      "source": [
        "P_Evil=0.10"
      ],
      "execution_count": 28,
      "outputs": []
    },
    {
      "cell_type": "markdown",
      "metadata": {
        "id": "rbNyx9Pd6_ze"
      },
      "source": [
        "12) Determine P(Slytherin).  Hint: This is a little tricky.  This is equal to the probability of a student being evil (and therefore being sorted into Slytherin) plus the probability of not being evil and being sorted into Slytherin."
      ]
    },
    {
      "cell_type": "markdown",
      "metadata": {
        "id": "f8isF3l-EPHD"
      },
      "source": [
        "Answer: \n",
        "\n",
        "$$ P(Slytherin) =(\\frac{1}{3}* .2) +  P(Evil)$$\n",
        "$$ P(Slytherin) = 0.066 + 0.10$$\n",
        "$$ P(Slytherin) = 0.166$$"
      ]
    },
    {
      "cell_type": "code",
      "metadata": {
        "id": "JtVv342zhGR1"
      },
      "source": [
        "P_Slytherine = 0.166"
      ],
      "execution_count": 27,
      "outputs": []
    },
    {
      "cell_type": "markdown",
      "metadata": {
        "id": "K_hfqxQg7pZo"
      },
      "source": [
        "13) Calculate P(Evil|Slytherin) using the formula\n",
        "\n",
        "$$P(Evil|Slytherin)= \\frac{P(Slytherin|Evil)P(Evil)}{P(Slytherin)}$$"
      ]
    },
    {
      "cell_type": "code",
      "metadata": {
        "id": "oHXYXRk_ERaH",
        "outputId": "190200b4-f917-4bed-85ca-56f5402e175c",
        "colab": {
          "base_uri": "https://localhost:8080/"
        }
      },
      "source": [
        "### YOUR CODE HERE ###\n",
        "P_Evil_given_Slytherin = (P_Slytherine_given_Evil*P_Evil )/ P_Slytherine\n",
        "P_Evil_given_Slytherin\n"
      ],
      "execution_count": 30,
      "outputs": [
        {
          "output_type": "execute_result",
          "data": {
            "text/plain": [
              "0.6024096385542169"
            ]
          },
          "metadata": {
            "tags": []
          },
          "execution_count": 30
        }
      ]
    },
    {
      "cell_type": "markdown",
      "metadata": {
        "id": "xG31AYm1KeH7"
      },
      "source": [
        "#Portfolio Project Assignment\n",
        "\n",
        "Watch the Porfolio Project websites mini-lecture: https://www.youtube.com/watch?v=gxbNCGERUjc&feature=youtu.be&ab_channel=LambdaSchool\n",
        "\n",
        "\n",
        "Begin to set up your own Portfolio Project website."
      ]
    }
  ]
}